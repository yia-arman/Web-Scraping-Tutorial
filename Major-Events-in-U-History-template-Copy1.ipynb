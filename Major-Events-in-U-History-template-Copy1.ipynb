{
 "cells": [
  {
   "cell_type": "markdown",
   "id": "6b24f2eb",
   "metadata": {},
   "source": [
    "# Major Events in US History"
   ]
  },
  {
   "cell_type": "markdown",
   "id": "382e6617",
   "metadata": {},
   "source": [
    "## Web Scraping "
   ]
  },
  {
   "cell_type": "markdown",
   "id": "981dc727",
   "metadata": {},
   "source": [
    "#### Import Libraries"
   ]
  },
  {
   "cell_type": "code",
   "execution_count": null,
   "id": "3d576c65",
   "metadata": {},
   "outputs": [],
   "source": []
  },
  {
   "cell_type": "markdown",
   "id": "1b7a0b98",
   "metadata": {},
   "source": [
    "#### Request the Web Content and Save it as BeautifulSoup Object"
   ]
  },
  {
   "cell_type": "code",
   "execution_count": null,
   "id": "8e89b489",
   "metadata": {},
   "outputs": [],
   "source": []
  },
  {
   "cell_type": "markdown",
   "id": "15209f7c",
   "metadata": {},
   "source": [
    "#### Use BeautifulSoup Methods to Extract The Year and Events"
   ]
  },
  {
   "cell_type": "code",
   "execution_count": null,
   "id": "a3d8c4dd",
   "metadata": {},
   "outputs": [],
   "source": []
  },
  {
   "cell_type": "markdown",
   "id": "4479ca21",
   "metadata": {},
   "source": [
    "### Regular Expression"
   ]
  },
  {
   "cell_type": "markdown",
   "id": "f1f92f19",
   "metadata": {},
   "source": [
    "#### Turn Dash (-) to \" \" and Split the Year and Event"
   ]
  },
  {
   "cell_type": "code",
   "execution_count": null,
   "id": "090f3cc9",
   "metadata": {},
   "outputs": [],
   "source": []
  },
  {
   "cell_type": "markdown",
   "id": "03539f53",
   "metadata": {},
   "source": [
    "## Pandas"
   ]
  },
  {
   "cell_type": "code",
   "execution_count": null,
   "id": "2dee4b96",
   "metadata": {},
   "outputs": [],
   "source": []
  },
  {
   "cell_type": "markdown",
   "id": "2783ae4e",
   "metadata": {},
   "source": [
    "#### Make A Data frame with 'Year' and 'Event' as columns"
   ]
  },
  {
   "cell_type": "code",
   "execution_count": null,
   "id": "6dbeb985",
   "metadata": {},
   "outputs": [],
   "source": []
  },
  {
   "cell_type": "markdown",
   "id": "ae3d71c8",
   "metadata": {},
   "source": [
    "#### Locate row 15 and Fix the Year and Event Event = 'Assassination Attempt on Reagan' and Year = \"1981\""
   ]
  },
  {
   "cell_type": "code",
   "execution_count": null,
   "id": "a47a74f3",
   "metadata": {
    "scrolled": true
   },
   "outputs": [],
   "source": []
  },
  {
   "cell_type": "markdown",
   "id": "a18de895",
   "metadata": {},
   "source": [
    "#### Use Replace method to turn '983' to '1983'"
   ]
  },
  {
   "cell_type": "code",
   "execution_count": null,
   "id": "89ef3997",
   "metadata": {},
   "outputs": [],
   "source": []
  },
  {
   "cell_type": "markdown",
   "id": "ddc384a9",
   "metadata": {},
   "source": [
    "#### Strip the Event Column"
   ]
  },
  {
   "cell_type": "code",
   "execution_count": null,
   "id": "a05dd0b4",
   "metadata": {},
   "outputs": [],
   "source": []
  },
  {
   "cell_type": "markdown",
   "id": "6d52a0ed",
   "metadata": {},
   "source": [
    "#### Group all the events in same year"
   ]
  },
  {
   "cell_type": "code",
   "execution_count": null,
   "id": "893283b7",
   "metadata": {},
   "outputs": [],
   "source": []
  },
  {
   "cell_type": "markdown",
   "id": "9003dee6",
   "metadata": {},
   "source": [
    "#### Save as CSV"
   ]
  },
  {
   "cell_type": "code",
   "execution_count": null,
   "id": "4f521263",
   "metadata": {},
   "outputs": [],
   "source": []
  },
  {
   "cell_type": "markdown",
   "id": "908425a5",
   "metadata": {},
   "source": [
    "#### Read CSV"
   ]
  },
  {
   "cell_type": "code",
   "execution_count": null,
   "id": "712e15c1",
   "metadata": {},
   "outputs": [],
   "source": []
  }
 ],
 "metadata": {
  "kernelspec": {
   "display_name": "Python 3 (ipykernel)",
   "language": "python",
   "name": "python3"
  },
  "language_info": {
   "codemirror_mode": {
    "name": "ipython",
    "version": 3
   },
   "file_extension": ".py",
   "mimetype": "text/x-python",
   "name": "python",
   "nbconvert_exporter": "python",
   "pygments_lexer": "ipython3",
   "version": "3.9.12"
  }
 },
 "nbformat": 4,
 "nbformat_minor": 5
}
