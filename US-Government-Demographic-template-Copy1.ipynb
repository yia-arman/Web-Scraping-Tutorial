{
 "cells": [
  {
   "cell_type": "markdown",
   "id": "6da4cf9b",
   "metadata": {},
   "source": [
    "# Web Scraping Wikipedia to Get The Historical Data on US Government Party Demographic"
   ]
  },
  {
   "cell_type": "markdown",
   "id": "24b75484",
   "metadata": {},
   "source": [
    "## Web Scraping: BeautifulSoup "
   ]
  },
  {
   "cell_type": "markdown",
   "id": "69b497f6",
   "metadata": {},
   "source": [
    "#### Import Libraries"
   ]
  },
  {
   "cell_type": "code",
   "execution_count": null,
   "id": "46fad39e",
   "metadata": {},
   "outputs": [],
   "source": []
  },
  {
   "cell_type": "markdown",
   "id": "64471125",
   "metadata": {},
   "source": [
    "#### Request the Web Page Content"
   ]
  },
  {
   "cell_type": "code",
   "execution_count": null,
   "id": "a2f17b41",
   "metadata": {},
   "outputs": [],
   "source": []
  },
  {
   "cell_type": "markdown",
   "id": "146b579e",
   "metadata": {},
   "source": [
    "#### Save the html content as Beautiful Soup Object"
   ]
  },
  {
   "cell_type": "code",
   "execution_count": null,
   "id": "31a4f405",
   "metadata": {},
   "outputs": [],
   "source": []
  },
  {
   "cell_type": "markdown",
   "id": "46f9c104",
   "metadata": {},
   "source": [
    "#### Locate the Div and Table of Content "
   ]
  },
  {
   "cell_type": "code",
   "execution_count": null,
   "id": "eb255593",
   "metadata": {},
   "outputs": [],
   "source": []
  },
  {
   "cell_type": "markdown",
   "id": "1aa783fb",
   "metadata": {},
   "source": [
    "#### Make a list of the Table Data"
   ]
  },
  {
   "cell_type": "code",
   "execution_count": null,
   "id": "a8a595ed",
   "metadata": {},
   "outputs": [],
   "source": []
  },
  {
   "cell_type": "markdown",
   "id": "f98b1bec",
   "metadata": {},
   "source": [
    "#### Save the List as Pandas Data Frame"
   ]
  },
  {
   "cell_type": "code",
   "execution_count": null,
   "id": "902fb965",
   "metadata": {},
   "outputs": [],
   "source": []
  },
  {
   "cell_type": "markdown",
   "id": "50950f18",
   "metadata": {},
   "source": [
    "## Cleaning Data: Pandas"
   ]
  },
  {
   "cell_type": "markdown",
   "id": "b642814f",
   "metadata": {},
   "source": [
    "#### Join the list Element for President Column"
   ]
  },
  {
   "cell_type": "code",
   "execution_count": null,
   "id": "6d769be2",
   "metadata": {},
   "outputs": [],
   "source": []
  },
  {
   "cell_type": "markdown",
   "id": "a3e154d9",
   "metadata": {},
   "source": [
    "#### Regular Expression: Removing New Line and Useless Bracket "
   ]
  },
  {
   "cell_type": "code",
   "execution_count": null,
   "id": "9cc479c8",
   "metadata": {},
   "outputs": [],
   "source": []
  },
  {
   "cell_type": "markdown",
   "id": "d4e02f61",
   "metadata": {},
   "source": [
    "#### Locating scpecific data point and changing it"
   ]
  },
  {
   "cell_type": "code",
   "execution_count": null,
   "id": "66f7f51c",
   "metadata": {},
   "outputs": [],
   "source": []
  },
  {
   "cell_type": "markdown",
   "id": "4f97da75",
   "metadata": {},
   "source": [
    "#### To CSV"
   ]
  },
  {
   "cell_type": "code",
   "execution_count": null,
   "id": "8ecf0808",
   "metadata": {},
   "outputs": [],
   "source": []
  },
  {
   "cell_type": "markdown",
   "id": "288591ee",
   "metadata": {},
   "source": [
    "#### Read CSV"
   ]
  },
  {
   "cell_type": "code",
   "execution_count": null,
   "id": "bc0d1b99",
   "metadata": {},
   "outputs": [],
   "source": []
  }
 ],
 "metadata": {
  "kernelspec": {
   "display_name": "Python 3 (ipykernel)",
   "language": "python",
   "name": "python3"
  },
  "language_info": {
   "codemirror_mode": {
    "name": "ipython",
    "version": 3
   },
   "file_extension": ".py",
   "mimetype": "text/x-python",
   "name": "python",
   "nbconvert_exporter": "python",
   "pygments_lexer": "ipython3",
   "version": "3.9.12"
  }
 },
 "nbformat": 4,
 "nbformat_minor": 5
}
