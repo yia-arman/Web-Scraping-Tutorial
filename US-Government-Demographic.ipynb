{
 "cells": [
  {
   "cell_type": "markdown",
   "id": "6da4cf9b",
   "metadata": {},
   "source": [
    "# Web Scraping Wikipedia to Get The Historical Data on US Government Party Demographic"
   ]
  },
  {
   "cell_type": "markdown",
   "id": "24b75484",
   "metadata": {},
   "source": [
    "## Web Scraping: BeautifulSoup "
   ]
  },
  {
   "cell_type": "markdown",
   "id": "69b497f6",
   "metadata": {},
   "source": [
    "#### Import Libraries"
   ]
  },
  {
   "cell_type": "code",
   "execution_count": 188,
   "id": "46fad39e",
   "metadata": {},
   "outputs": [],
   "source": [
    "from bs4 import BeautifulSoup as Soup\n",
    "import requests\n",
    "import pandas as pd"
   ]
  },
  {
   "cell_type": "markdown",
   "id": "64471125",
   "metadata": {},
   "source": [
    "#### Request the Web Page Content"
   ]
  },
  {
   "cell_type": "code",
   "execution_count": 177,
   "id": "a2f17b41",
   "metadata": {},
   "outputs": [],
   "source": [
    "URL = 'https://en.wikipedia.org/wiki/Divided_government_in_the_United_States'\n",
    "r = requests.get(URL)"
   ]
  },
  {
   "cell_type": "markdown",
   "id": "146b579e",
   "metadata": {},
   "source": [
    "#### Save the html content as Beautiful Soup Object"
   ]
  },
  {
   "cell_type": "code",
   "execution_count": 179,
   "id": "31a4f405",
   "metadata": {},
   "outputs": [],
   "source": [
    "content = Soup(r.content)\n",
    "content.prettify"
   ]
  },
  {
   "cell_type": "markdown",
   "id": "46f9c104",
   "metadata": {},
   "source": [
    "#### Locate the Div and Table of Content "
   ]
  },
  {
   "cell_type": "code",
   "execution_count": 180,
   "id": "eb255593",
   "metadata": {},
   "outputs": [],
   "source": [
    "tables = ''\n",
    "div = content.find(id='mw-content-text')\n",
    "tables = div.find_all('table', attrs={\"style\":\"text-align:center\"})\n",
    "tables = tables[0].find('tbody')"
   ]
  },
  {
   "cell_type": "markdown",
   "id": "1aa783fb",
   "metadata": {},
   "source": [
    "#### Make a list of the Table Data"
   ]
  },
  {
   "cell_type": "code",
   "execution_count": 181,
   "id": "a8a595ed",
   "metadata": {},
   "outputs": [],
   "source": [
    "data = []\n",
    "President = []\n",
    "for row in tables.find_all('tr'):\n",
    "    if row.find('td'):\n",
    "        row_data = [td.string for td in row.find_all('td') if not td.find('a') and  not td.find('b')] \n",
    "        if not row_data: \n",
    "            row_data = [td.string for td in row.find_all('b') if not td.find('a')]\n",
    "    \n",
    "        if row.find('a'):\n",
    "            title = [t.string for t in row.find_all('a')]\n",
    "            President.append(title)\n",
    "            \n",
    "        else: President.append(title)\n",
    "        data.append(row_data)"
   ]
  },
  {
   "cell_type": "markdown",
   "id": "f98b1bec",
   "metadata": {},
   "source": [
    "#### Save the List as Pandas Data Frame"
   ]
  },
  {
   "cell_type": "code",
   "execution_count": 182,
   "id": "902fb965",
   "metadata": {},
   "outputs": [],
   "source": [
    "df = pd.DataFrame(data, columns = ['Year', 'Senate', 'House', 'President_p'])\n",
    "df['President'] = President"
   ]
  },
  {
   "cell_type": "code",
   "execution_count": 183,
   "id": "609ec2c6",
   "metadata": {},
   "outputs": [
    {
     "data": {
      "text/html": [
       "<div>\n",
       "<style scoped>\n",
       "    .dataframe tbody tr th:only-of-type {\n",
       "        vertical-align: middle;\n",
       "    }\n",
       "\n",
       "    .dataframe tbody tr th {\n",
       "        vertical-align: top;\n",
       "    }\n",
       "\n",
       "    .dataframe thead th {\n",
       "        text-align: right;\n",
       "    }\n",
       "</style>\n",
       "<table border=\"1\" class=\"dataframe\">\n",
       "  <thead>\n",
       "    <tr style=\"text-align: right;\">\n",
       "      <th></th>\n",
       "      <th>Year</th>\n",
       "      <th>Senate</th>\n",
       "      <th>House</th>\n",
       "      <th>President_p</th>\n",
       "      <th>President</th>\n",
       "    </tr>\n",
       "  </thead>\n",
       "  <tbody>\n",
       "    <tr>\n",
       "      <th>0</th>\n",
       "      <td>1861–1863\\n</td>\n",
       "      <td>R\\n</td>\n",
       "      <td>R\\n</td>\n",
       "      <td>R\\n</td>\n",
       "      <td>[Lincoln]</td>\n",
       "    </tr>\n",
       "    <tr>\n",
       "      <th>1</th>\n",
       "      <td>1863–1865\\n</td>\n",
       "      <td>R\\n</td>\n",
       "      <td>R\\n</td>\n",
       "      <td>R\\n</td>\n",
       "      <td>[Lincoln]</td>\n",
       "    </tr>\n",
       "    <tr>\n",
       "      <th>2</th>\n",
       "      <td>1865–1867</td>\n",
       "      <td>R</td>\n",
       "      <td>R</td>\n",
       "      <td>D</td>\n",
       "      <td>[A. Johnson]</td>\n",
       "    </tr>\n",
       "    <tr>\n",
       "      <th>3</th>\n",
       "      <td>1867–1869</td>\n",
       "      <td>R</td>\n",
       "      <td>R</td>\n",
       "      <td>D</td>\n",
       "      <td>[A. Johnson]</td>\n",
       "    </tr>\n",
       "    <tr>\n",
       "      <th>4</th>\n",
       "      <td>1869–1871\\n</td>\n",
       "      <td>R\\n</td>\n",
       "      <td>R\\n</td>\n",
       "      <td>R\\n</td>\n",
       "      <td>[Grant]</td>\n",
       "    </tr>\n",
       "    <tr>\n",
       "      <th>...</th>\n",
       "      <td>...</td>\n",
       "      <td>...</td>\n",
       "      <td>...</td>\n",
       "      <td>...</td>\n",
       "      <td>...</td>\n",
       "    </tr>\n",
       "    <tr>\n",
       "      <th>77</th>\n",
       "      <td>2015–2017</td>\n",
       "      <td>R</td>\n",
       "      <td>R</td>\n",
       "      <td>D</td>\n",
       "      <td>[Obama]</td>\n",
       "    </tr>\n",
       "    <tr>\n",
       "      <th>78</th>\n",
       "      <td>2017–2019\\n</td>\n",
       "      <td>R\\n</td>\n",
       "      <td>R\\n</td>\n",
       "      <td>R\\n</td>\n",
       "      <td>[Trump]</td>\n",
       "    </tr>\n",
       "    <tr>\n",
       "      <th>79</th>\n",
       "      <td>2019–2021</td>\n",
       "      <td>R</td>\n",
       "      <td>D</td>\n",
       "      <td>R</td>\n",
       "      <td>[Trump]</td>\n",
       "    </tr>\n",
       "    <tr>\n",
       "      <th>80</th>\n",
       "      <td>2021–2023\\n</td>\n",
       "      <td>D\\n</td>\n",
       "      <td>D\\n</td>\n",
       "      <td>None</td>\n",
       "      <td>[[e], Biden]</td>\n",
       "    </tr>\n",
       "    <tr>\n",
       "      <th>81</th>\n",
       "      <td>2023–2025</td>\n",
       "      <td>D</td>\n",
       "      <td>R</td>\n",
       "      <td>D</td>\n",
       "      <td>[[e], Biden]</td>\n",
       "    </tr>\n",
       "  </tbody>\n",
       "</table>\n",
       "<p>82 rows × 5 columns</p>\n",
       "</div>"
      ],
      "text/plain": [
       "           Year Senate House President_p     President\n",
       "0   1861–1863\\n    R\\n   R\\n         R\\n     [Lincoln]\n",
       "1   1863–1865\\n    R\\n   R\\n         R\\n     [Lincoln]\n",
       "2     1865–1867      R     R           D  [A. Johnson]\n",
       "3     1867–1869      R     R           D  [A. Johnson]\n",
       "4   1869–1871\\n    R\\n   R\\n         R\\n       [Grant]\n",
       "..          ...    ...   ...         ...           ...\n",
       "77    2015–2017      R     R           D       [Obama]\n",
       "78  2017–2019\\n    R\\n   R\\n         R\\n       [Trump]\n",
       "79    2019–2021      R     D           R       [Trump]\n",
       "80  2021–2023\\n    D\\n   D\\n        None  [[e], Biden]\n",
       "81    2023–2025      D     R           D  [[e], Biden]\n",
       "\n",
       "[82 rows x 5 columns]"
      ]
     },
     "execution_count": 183,
     "metadata": {},
     "output_type": "execute_result"
    }
   ],
   "source": [
    "df"
   ]
  },
  {
   "cell_type": "markdown",
   "id": "50950f18",
   "metadata": {},
   "source": [
    "## Cleaning Data: Pandas"
   ]
  },
  {
   "cell_type": "markdown",
   "id": "b642814f",
   "metadata": {},
   "source": [
    "#### Join the list Element for President Column"
   ]
  },
  {
   "cell_type": "code",
   "execution_count": 112,
   "id": "6d769be2",
   "metadata": {},
   "outputs": [],
   "source": [
    "df['President'] = df['President'].str.join(sep='/')"
   ]
  },
  {
   "cell_type": "markdown",
   "id": "a3e154d9",
   "metadata": {},
   "source": [
    "#### Regular Expression: Removing New Line and Useless Bracket "
   ]
  },
  {
   "cell_type": "code",
   "execution_count": 160,
   "id": "9cc479c8",
   "metadata": {},
   "outputs": [],
   "source": [
    "df = df.replace(r'\\n',' ', regex=True) \n",
    "df = df.replace(r'.*\\]\\/', '', regex=True)"
   ]
  },
  {
   "cell_type": "markdown",
   "id": "d4e02f61",
   "metadata": {},
   "source": [
    "#### Locating scpecific data point and changing it"
   ]
  },
  {
   "cell_type": "code",
   "execution_count": 169,
   "id": "66f7f51c",
   "metadata": {},
   "outputs": [],
   "source": [
    "df.iloc[29].President = 'Wilson'"
   ]
  },
  {
   "cell_type": "markdown",
   "id": "4f97da75",
   "metadata": {},
   "source": [
    "#### To CSV"
   ]
  },
  {
   "cell_type": "code",
   "execution_count": null,
   "id": "8ecf0808",
   "metadata": {},
   "outputs": [],
   "source": [
    "#df.to_csv('US-President-Parties.csv', index=False)"
   ]
  },
  {
   "cell_type": "markdown",
   "id": "288591ee",
   "metadata": {},
   "source": [
    "#### Read CSV"
   ]
  },
  {
   "cell_type": "code",
   "execution_count": 204,
   "id": "bc0d1b99",
   "metadata": {},
   "outputs": [],
   "source": [
    "df = pd.read_csv('US-President-Parties.csv')"
   ]
  },
  {
   "cell_type": "markdown",
   "id": "a1bedb0d",
   "metadata": {},
   "source": [
    "# Creating Rows for each Year Range"
   ]
  },
  {
   "cell_type": "code",
   "execution_count": 210,
   "id": "85548556",
   "metadata": {},
   "outputs": [
    {
     "data": {
      "text/html": [
       "<div>\n",
       "<style scoped>\n",
       "    .dataframe tbody tr th:only-of-type {\n",
       "        vertical-align: middle;\n",
       "    }\n",
       "\n",
       "    .dataframe tbody tr th {\n",
       "        vertical-align: top;\n",
       "    }\n",
       "\n",
       "    .dataframe thead th {\n",
       "        text-align: right;\n",
       "    }\n",
       "</style>\n",
       "<table border=\"1\" class=\"dataframe\">\n",
       "  <thead>\n",
       "    <tr style=\"text-align: right;\">\n",
       "      <th></th>\n",
       "      <th>Year</th>\n",
       "      <th>Senate</th>\n",
       "      <th>House</th>\n",
       "      <th>President_p</th>\n",
       "      <th>President</th>\n",
       "    </tr>\n",
       "  </thead>\n",
       "  <tbody>\n",
       "    <tr>\n",
       "      <th>0</th>\n",
       "      <td>[1861, 1863 ]</td>\n",
       "      <td>R</td>\n",
       "      <td>R</td>\n",
       "      <td>R</td>\n",
       "      <td>Lincoln</td>\n",
       "    </tr>\n",
       "    <tr>\n",
       "      <th>1</th>\n",
       "      <td>[1863, 1865 ]</td>\n",
       "      <td>R</td>\n",
       "      <td>R</td>\n",
       "      <td>R</td>\n",
       "      <td>Lincoln</td>\n",
       "    </tr>\n",
       "    <tr>\n",
       "      <th>2</th>\n",
       "      <td>[1865, 1867]</td>\n",
       "      <td>R</td>\n",
       "      <td>R</td>\n",
       "      <td>D</td>\n",
       "      <td>A. Johnson</td>\n",
       "    </tr>\n",
       "    <tr>\n",
       "      <th>3</th>\n",
       "      <td>[1867, 1869]</td>\n",
       "      <td>R</td>\n",
       "      <td>R</td>\n",
       "      <td>D</td>\n",
       "      <td>A. Johnson</td>\n",
       "    </tr>\n",
       "    <tr>\n",
       "      <th>4</th>\n",
       "      <td>[1869, 1871 ]</td>\n",
       "      <td>R</td>\n",
       "      <td>R</td>\n",
       "      <td>R</td>\n",
       "      <td>Grant</td>\n",
       "    </tr>\n",
       "  </tbody>\n",
       "</table>\n",
       "</div>"
      ],
      "text/plain": [
       "            Year Senate House President_p   President\n",
       "0  [1861, 1863 ]     R     R           R      Lincoln\n",
       "1  [1863, 1865 ]     R     R           R      Lincoln\n",
       "2   [1865, 1867]      R     R           D  A. Johnson\n",
       "3   [1867, 1869]      R     R           D  A. Johnson\n",
       "4  [1869, 1871 ]     R     R           R        Grant"
      ]
     },
     "execution_count": 210,
     "metadata": {},
     "output_type": "execute_result"
    }
   ],
   "source": [
    "df.head()"
   ]
  },
  {
   "cell_type": "code",
   "execution_count": 205,
   "id": "cef5dd14",
   "metadata": {},
   "outputs": [],
   "source": [
    "df.Year = df.Year.str.split('–')"
   ]
  },
  {
   "cell_type": "code",
   "execution_count": 207,
   "id": "147bade0",
   "metadata": {},
   "outputs": [
    {
     "data": {
      "text/plain": [
       "['1861', '1863 ']"
      ]
     },
     "execution_count": 207,
     "metadata": {},
     "output_type": "execute_result"
    }
   ],
   "source": [
    "df.loc[0].Year"
   ]
  },
  {
   "cell_type": "code",
   "execution_count": 222,
   "id": "0807803a",
   "metadata": {},
   "outputs": [],
   "source": [
    "_df = pd.DataFrame([[p, T, i,j,l] for P, T, i,j,l in df.values for p in range(int(P[0]), int(P[1]))\n",
    "], columns=df.columns)"
   ]
  },
  {
   "cell_type": "code",
   "execution_count": 224,
   "id": "4010e3b8",
   "metadata": {},
   "outputs": [
    {
     "data": {
      "text/html": [
       "<div>\n",
       "<style scoped>\n",
       "    .dataframe tbody tr th:only-of-type {\n",
       "        vertical-align: middle;\n",
       "    }\n",
       "\n",
       "    .dataframe tbody tr th {\n",
       "        vertical-align: top;\n",
       "    }\n",
       "\n",
       "    .dataframe thead th {\n",
       "        text-align: right;\n",
       "    }\n",
       "</style>\n",
       "<table border=\"1\" class=\"dataframe\">\n",
       "  <thead>\n",
       "    <tr style=\"text-align: right;\">\n",
       "      <th></th>\n",
       "      <th>Year</th>\n",
       "      <th>Senate</th>\n",
       "      <th>House</th>\n",
       "      <th>President_p</th>\n",
       "      <th>President</th>\n",
       "    </tr>\n",
       "  </thead>\n",
       "  <tbody>\n",
       "    <tr>\n",
       "      <th>0</th>\n",
       "      <td>1861</td>\n",
       "      <td>R</td>\n",
       "      <td>R</td>\n",
       "      <td>R</td>\n",
       "      <td>Lincoln</td>\n",
       "    </tr>\n",
       "    <tr>\n",
       "      <th>1</th>\n",
       "      <td>1862</td>\n",
       "      <td>R</td>\n",
       "      <td>R</td>\n",
       "      <td>R</td>\n",
       "      <td>Lincoln</td>\n",
       "    </tr>\n",
       "    <tr>\n",
       "      <th>2</th>\n",
       "      <td>1863</td>\n",
       "      <td>R</td>\n",
       "      <td>R</td>\n",
       "      <td>R</td>\n",
       "      <td>Lincoln</td>\n",
       "    </tr>\n",
       "    <tr>\n",
       "      <th>3</th>\n",
       "      <td>1864</td>\n",
       "      <td>R</td>\n",
       "      <td>R</td>\n",
       "      <td>R</td>\n",
       "      <td>Lincoln</td>\n",
       "    </tr>\n",
       "    <tr>\n",
       "      <th>4</th>\n",
       "      <td>1865</td>\n",
       "      <td>R</td>\n",
       "      <td>R</td>\n",
       "      <td>D</td>\n",
       "      <td>A. Johnson</td>\n",
       "    </tr>\n",
       "    <tr>\n",
       "      <th>5</th>\n",
       "      <td>1866</td>\n",
       "      <td>R</td>\n",
       "      <td>R</td>\n",
       "      <td>D</td>\n",
       "      <td>A. Johnson</td>\n",
       "    </tr>\n",
       "    <tr>\n",
       "      <th>6</th>\n",
       "      <td>1867</td>\n",
       "      <td>R</td>\n",
       "      <td>R</td>\n",
       "      <td>D</td>\n",
       "      <td>A. Johnson</td>\n",
       "    </tr>\n",
       "    <tr>\n",
       "      <th>7</th>\n",
       "      <td>1868</td>\n",
       "      <td>R</td>\n",
       "      <td>R</td>\n",
       "      <td>D</td>\n",
       "      <td>A. Johnson</td>\n",
       "    </tr>\n",
       "    <tr>\n",
       "      <th>8</th>\n",
       "      <td>1869</td>\n",
       "      <td>R</td>\n",
       "      <td>R</td>\n",
       "      <td>R</td>\n",
       "      <td>Grant</td>\n",
       "    </tr>\n",
       "    <tr>\n",
       "      <th>9</th>\n",
       "      <td>1870</td>\n",
       "      <td>R</td>\n",
       "      <td>R</td>\n",
       "      <td>R</td>\n",
       "      <td>Grant</td>\n",
       "    </tr>\n",
       "    <tr>\n",
       "      <th>10</th>\n",
       "      <td>1871</td>\n",
       "      <td>R</td>\n",
       "      <td>R</td>\n",
       "      <td>R</td>\n",
       "      <td>Grant</td>\n",
       "    </tr>\n",
       "    <tr>\n",
       "      <th>11</th>\n",
       "      <td>1872</td>\n",
       "      <td>R</td>\n",
       "      <td>R</td>\n",
       "      <td>R</td>\n",
       "      <td>Grant</td>\n",
       "    </tr>\n",
       "    <tr>\n",
       "      <th>12</th>\n",
       "      <td>1873</td>\n",
       "      <td>R</td>\n",
       "      <td>R</td>\n",
       "      <td>R</td>\n",
       "      <td>Grant</td>\n",
       "    </tr>\n",
       "    <tr>\n",
       "      <th>13</th>\n",
       "      <td>1874</td>\n",
       "      <td>R</td>\n",
       "      <td>R</td>\n",
       "      <td>R</td>\n",
       "      <td>Grant</td>\n",
       "    </tr>\n",
       "    <tr>\n",
       "      <th>14</th>\n",
       "      <td>1875</td>\n",
       "      <td>R</td>\n",
       "      <td>D</td>\n",
       "      <td>R</td>\n",
       "      <td>Grant</td>\n",
       "    </tr>\n",
       "    <tr>\n",
       "      <th>15</th>\n",
       "      <td>1876</td>\n",
       "      <td>R</td>\n",
       "      <td>D</td>\n",
       "      <td>R</td>\n",
       "      <td>Grant</td>\n",
       "    </tr>\n",
       "    <tr>\n",
       "      <th>16</th>\n",
       "      <td>1877</td>\n",
       "      <td>R</td>\n",
       "      <td>D</td>\n",
       "      <td>R</td>\n",
       "      <td>Hayes</td>\n",
       "    </tr>\n",
       "    <tr>\n",
       "      <th>17</th>\n",
       "      <td>1878</td>\n",
       "      <td>R</td>\n",
       "      <td>D</td>\n",
       "      <td>R</td>\n",
       "      <td>Hayes</td>\n",
       "    </tr>\n",
       "    <tr>\n",
       "      <th>18</th>\n",
       "      <td>1879</td>\n",
       "      <td>D</td>\n",
       "      <td>D</td>\n",
       "      <td>R</td>\n",
       "      <td>Hayes</td>\n",
       "    </tr>\n",
       "    <tr>\n",
       "      <th>19</th>\n",
       "      <td>1880</td>\n",
       "      <td>D</td>\n",
       "      <td>D</td>\n",
       "      <td>R</td>\n",
       "      <td>Hayes</td>\n",
       "    </tr>\n",
       "    <tr>\n",
       "      <th>20</th>\n",
       "      <td>1881</td>\n",
       "      <td>R</td>\n",
       "      <td>R</td>\n",
       "      <td>R</td>\n",
       "      <td>Garfield/Arthur</td>\n",
       "    </tr>\n",
       "    <tr>\n",
       "      <th>21</th>\n",
       "      <td>1882</td>\n",
       "      <td>R</td>\n",
       "      <td>R</td>\n",
       "      <td>R</td>\n",
       "      <td>Garfield/Arthur</td>\n",
       "    </tr>\n",
       "    <tr>\n",
       "      <th>22</th>\n",
       "      <td>1883</td>\n",
       "      <td>R</td>\n",
       "      <td>D</td>\n",
       "      <td>R</td>\n",
       "      <td>Arthur</td>\n",
       "    </tr>\n",
       "    <tr>\n",
       "      <th>23</th>\n",
       "      <td>1884</td>\n",
       "      <td>R</td>\n",
       "      <td>D</td>\n",
       "      <td>R</td>\n",
       "      <td>Arthur</td>\n",
       "    </tr>\n",
       "    <tr>\n",
       "      <th>24</th>\n",
       "      <td>1885</td>\n",
       "      <td>R</td>\n",
       "      <td>D</td>\n",
       "      <td>D</td>\n",
       "      <td>Cleveland</td>\n",
       "    </tr>\n",
       "    <tr>\n",
       "      <th>25</th>\n",
       "      <td>1886</td>\n",
       "      <td>R</td>\n",
       "      <td>D</td>\n",
       "      <td>D</td>\n",
       "      <td>Cleveland</td>\n",
       "    </tr>\n",
       "    <tr>\n",
       "      <th>26</th>\n",
       "      <td>1887</td>\n",
       "      <td>R</td>\n",
       "      <td>D</td>\n",
       "      <td>D</td>\n",
       "      <td>Cleveland</td>\n",
       "    </tr>\n",
       "    <tr>\n",
       "      <th>27</th>\n",
       "      <td>1888</td>\n",
       "      <td>R</td>\n",
       "      <td>D</td>\n",
       "      <td>D</td>\n",
       "      <td>Cleveland</td>\n",
       "    </tr>\n",
       "    <tr>\n",
       "      <th>28</th>\n",
       "      <td>1889</td>\n",
       "      <td>R</td>\n",
       "      <td>R</td>\n",
       "      <td>R</td>\n",
       "      <td>Harrison</td>\n",
       "    </tr>\n",
       "    <tr>\n",
       "      <th>29</th>\n",
       "      <td>1890</td>\n",
       "      <td>R</td>\n",
       "      <td>R</td>\n",
       "      <td>R</td>\n",
       "      <td>Harrison</td>\n",
       "    </tr>\n",
       "  </tbody>\n",
       "</table>\n",
       "</div>"
      ],
      "text/plain": [
       "    Year Senate House President_p        President\n",
       "0   1861     R     R           R           Lincoln\n",
       "1   1862     R     R           R           Lincoln\n",
       "2   1863     R     R           R           Lincoln\n",
       "3   1864     R     R           R           Lincoln\n",
       "4   1865      R     R           D       A. Johnson\n",
       "5   1866      R     R           D       A. Johnson\n",
       "6   1867      R     R           D       A. Johnson\n",
       "7   1868      R     R           D       A. Johnson\n",
       "8   1869     R     R           R             Grant\n",
       "9   1870     R     R           R             Grant\n",
       "10  1871     R     R           R             Grant\n",
       "11  1872     R     R           R             Grant\n",
       "12  1873     R     R           R             Grant\n",
       "13  1874     R     R           R             Grant\n",
       "14  1875      R     D           R            Grant\n",
       "15  1876      R     D           R            Grant\n",
       "16  1877      R     D           R            Hayes\n",
       "17  1878      R     D           R            Hayes\n",
       "18  1879      D     D           R            Hayes\n",
       "19  1880      D     D           R            Hayes\n",
       "20  1881     R     R            R  Garfield/Arthur\n",
       "21  1882     R     R            R  Garfield/Arthur\n",
       "22  1883      R     D           R           Arthur\n",
       "23  1884      R     D           R           Arthur\n",
       "24  1885      R     D           D        Cleveland\n",
       "25  1886      R     D           D        Cleveland\n",
       "26  1887      R     D           D        Cleveland\n",
       "27  1888      R     D           D        Cleveland\n",
       "28  1889     R     R           R          Harrison\n",
       "29  1890     R     R           R          Harrison"
      ]
     },
     "execution_count": 224,
     "metadata": {},
     "output_type": "execute_result"
    }
   ],
   "source": [
    "_df.head(30)"
   ]
  },
  {
   "cell_type": "code",
   "execution_count": 215,
   "id": "bb6cb03c",
   "metadata": {},
   "outputs": [],
   "source": [
    "new_df.Year = pd.to_datetime(new_df.Year)"
   ]
  },
  {
   "cell_type": "code",
   "execution_count": 225,
   "id": "645769ac",
   "metadata": {},
   "outputs": [],
   "source": [
    "df.to_csv('US-President-Parties-by-Year.csv', index=False)"
   ]
  },
  {
   "cell_type": "code",
   "execution_count": 213,
   "id": "9f9f9f53",
   "metadata": {},
   "outputs": [],
   "source": [
    "#df['Year'].apply(pd.Series).reset_index().melt(id_vars='index')"
   ]
  },
  {
   "cell_type": "code",
   "execution_count": null,
   "id": "3817484d",
   "metadata": {},
   "outputs": [],
   "source": []
  }
 ],
 "metadata": {
  "kernelspec": {
   "display_name": "Python 3 (ipykernel)",
   "language": "python",
   "name": "python3"
  },
  "language_info": {
   "codemirror_mode": {
    "name": "ipython",
    "version": 3
   },
   "file_extension": ".py",
   "mimetype": "text/x-python",
   "name": "python",
   "nbconvert_exporter": "python",
   "pygments_lexer": "ipython3",
   "version": "3.9.12"
  }
 },
 "nbformat": 4,
 "nbformat_minor": 5
}
